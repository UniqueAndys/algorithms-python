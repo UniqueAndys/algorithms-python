{
 "cells": [
  {
   "cell_type": "markdown",
   "metadata": {},
   "source": [
    "# Stack"
   ]
  },
  {
   "cell_type": "markdown",
   "metadata": {},
   "source": [
    "python把隐含的实例传进方法中第一个特殊的参数"
   ]
  },
  {
   "cell_type": "code",
   "execution_count": 1,
   "metadata": {
    "collapsed": false
   },
   "outputs": [],
   "source": [
    "class Stack:\n",
    "    def __init__(self):\n",
    "        self.s = []\n",
    "    \n",
    "    def isEmpty(self):\n",
    "        return self.s == []\n",
    "        \n",
    "    def push(self, e):\n",
    "        self.s.append(e)\n",
    "    \n",
    "    def peek(self):\n",
    "        if not self.isEmpty():\n",
    "            return self.s[len(self.s)-1]\n",
    "        else:\n",
    "            print \"Stack is Empty!\"\n",
    "    \n",
    "    def pop(self):\n",
    "        return self.s.pop()\n",
    "    \n",
    "    def size(self):\n",
    "        return len(self.s)"
   ]
  },
  {
   "cell_type": "code",
   "execution_count": 62,
   "metadata": {
    "collapsed": true
   },
   "outputs": [],
   "source": [
    "s = Stack()"
   ]
  },
  {
   "cell_type": "code",
   "execution_count": 64,
   "metadata": {
    "collapsed": false
   },
   "outputs": [
    {
     "name": "stdout",
     "output_type": "stream",
     "text": [
      "True\n",
      "[]\n",
      "[4]\n",
      "[4, 'dog']\n",
      "dog\n",
      "[4, 'dog', True]\n",
      "3\n",
      "False\n",
      "[4, 'dog', True, 8.4]\n",
      "8.4\n",
      "[4, 'dog', True]\n",
      "True\n",
      "[4, 'dog']\n",
      "2\n"
     ]
    }
   ],
   "source": [
    "print s.isEmpty()\n",
    "print s.s\n",
    "s.push(4)\n",
    "print s.s\n",
    "s.push('dog')\n",
    "print s.s\n",
    "print s.peek()\n",
    "s.push(True)\n",
    "print s.s\n",
    "print s.size()\n",
    "print s.isEmpty()\n",
    "s.push(8.4)\n",
    "print s.s\n",
    "print s.pop()\n",
    "print s.s\n",
    "print s.pop()\n",
    "print s.s\n",
    "print s.size()"
   ]
  },
  {
   "cell_type": "code",
   "execution_count": 8,
   "metadata": {
    "collapsed": true
   },
   "outputs": [],
   "source": [
    "def parCheck(parStr):\n",
    "    parStack = Stack()\n",
    "    i = 0\n",
    "    while i < len(parStr):\n",
    "        if parStr[i] == '(':\n",
    "            parStack.push('(')\n",
    "        else:\n",
    "            if parStack.isEmpty():\n",
    "                return False\n",
    "            else:\n",
    "                parStack.pop()\n",
    "        i += 1\n",
    "    if parStack.isEmpty():\n",
    "        return True\n",
    "    else:\n",
    "        return False"
   ]
  },
  {
   "cell_type": "code",
   "execution_count": 9,
   "metadata": {
    "collapsed": false
   },
   "outputs": [
    {
     "name": "stdout",
     "output_type": "stream",
     "text": [
      "True\n"
     ]
    }
   ],
   "source": [
    "print(parCheck(\"(()(())())\"))"
   ]
  },
  {
   "cell_type": "code",
   "execution_count": 10,
   "metadata": {
    "collapsed": false
   },
   "outputs": [
    {
     "name": "stdout",
     "output_type": "stream",
     "text": [
      "False\n"
     ]
    }
   ],
   "source": [
    "print(parCheck(\"(()(())()\"))"
   ]
  }
 ],
 "metadata": {
  "kernelspec": {
   "display_name": "Python 2",
   "language": "python",
   "name": "python2"
  },
  "language_info": {
   "codemirror_mode": {
    "name": "ipython",
    "version": 2
   },
   "file_extension": ".py",
   "mimetype": "text/x-python",
   "name": "python",
   "nbconvert_exporter": "python",
   "pygments_lexer": "ipython2",
   "version": "2.7.12"
  }
 },
 "nbformat": 4,
 "nbformat_minor": 0
}
