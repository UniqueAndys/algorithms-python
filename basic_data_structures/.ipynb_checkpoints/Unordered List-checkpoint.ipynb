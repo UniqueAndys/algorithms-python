{
 "cells": [
  {
   "cell_type": "markdown",
   "metadata": {},
   "source": [
    "# List"
   ]
  },
  {
   "cell_type": "code",
   "execution_count": 4,
   "metadata": {
    "collapsed": true
   },
   "outputs": [],
   "source": [
    "class Node:\n",
    "    def __init__(self, initdata):\n",
    "        self.data = initdata\n",
    "        self.next = None\n",
    "        \n",
    "    def getData(self):\n",
    "        return self.data\n",
    "    \n",
    "    def getNext(self):\n",
    "        return self.next\n",
    "    \n",
    "    def setData(self, newdata):\n",
    "        self.data = newdata\n",
    "    \n",
    "    def setNext(self, newnext):\n",
    "        self.next = newnext"
   ]
  },
  {
   "cell_type": "code",
   "execution_count": 11,
   "metadata": {
    "collapsed": true
   },
   "outputs": [],
   "source": [
    "class UnorderedList:\n",
    "    def __init__(self):\n",
    "        self.head = None\n",
    "    \n",
    "    def isEmpty(self):\n",
    "        return self.head == None\n",
    "    \n",
    "    def add(self, item):\n",
    "        temp = Node(item)\n",
    "        temp.setNext(self.head)\n",
    "        self.head = temp\n",
    "    \n",
    "    def size(self):\n",
    "        num = 0\n",
    "        nextNode = self.head\n",
    "        while nextNode != None:\n",
    "            num += 1\n",
    "            nextNode = nextNode.getNext()\n",
    "        return num\n",
    "    \n",
    "    def search(self, item):\n",
    "        find = False\n",
    "        nextNode = self.head\n",
    "        while nextNode != None and not find:\n",
    "            if nextNode.getData() == item:\n",
    "                find = True\n",
    "            else:\n",
    "                nextNode = nextNode.getNext()\n",
    "        return find\n",
    "    \n",
    "    def index(self, item):\n",
    "        itemIndex = 0\n",
    "        get = False\n",
    "        nextNode = self.head\n",
    "        while nextNode != None and not get:\n",
    "            if nextNode.getData() == item:\n",
    "                get = True\n",
    "            else:\n",
    "                nextNode = nextNode.getNext()\n",
    "                itemIndex += 1\n",
    "        return itemIndex\n",
    "    \n",
    "    def append(self, item):\n",
    "        temp = Node(item)\n",
    "        nextNode = self.head\n",
    "        while nextNode.getNext() != None:\n",
    "            nextNode = nextNode.getNext()\n",
    "        nextNode.setNext(temp)\n",
    "        \n",
    "    def printList(self):\n",
    "        listItem = []\n",
    "        nextNode = self.head\n",
    "        while nextNode != None:\n",
    "            listItem.append(nextNode.getData())\n",
    "            nextNode = nextNode.getNext()\n",
    "        return listItem\n",
    "    \n",
    "    def insert(self, pos, item):\n",
    "        temp = Node(item)\n",
    "        if pos == 0:\n",
    "            item.setNext(self.head.getNext())\n",
    "            self.head = temp\n",
    "        else:\n",
    "            nextNode = self.head\n",
    "            while pos > 1:\n",
    "                nextNode = nextNode.getNext()\n",
    "                pos -= 1\n",
    "            temp.setNext(nextNode.getNext())\n",
    "            nextNode.setNext(temp)\n",
    "    \n",
    "    def pop(self):\n",
    "        nextNode = self.head\n",
    "        while nextNode.getNext().getNext() != None:\n",
    "            nextNode = nextNode.getNext()\n",
    "        lastNode = nextNode.getNext()\n",
    "        nextNode.setNext(None)\n",
    "        return lastNode.getData()\n",
    "    \n",
    "    def popPos(self, pos):\n",
    "        if pos == 0:\n",
    "            temp = self.head\n",
    "            self.head = None\n",
    "            return temp.getData()\n",
    "        else:\n",
    "            nextNode = self.head\n",
    "            while pos > 1:\n",
    "                nextNode = nextNode.getNext()\n",
    "                pos -= 1\n",
    "            temp = nextNode.getNext()\n",
    "            nextNode.setNext(temp.getNext())\n",
    "            return temp.getData()"
   ]
  },
  {
   "cell_type": "code",
   "execution_count": 12,
   "metadata": {
    "collapsed": false
   },
   "outputs": [
    {
     "name": "stdout",
     "output_type": "stream",
     "text": [
      "True\n",
      "3 [17, 15, 13]\n",
      "True False True\n",
      "0 1 2\n",
      "[17, 15, 13, 19, 21]\n",
      "[17, 15, 23, 13, 19, 21]\n",
      "21 [17, 15, 23, 13, 19]\n",
      "13 [17, 15, 23, 19]\n"
     ]
    }
   ],
   "source": [
    "myList = UnorderedList()\n",
    "print myList.isEmpty()\n",
    "myList.add(13)\n",
    "myList.add(15)\n",
    "myList.add(17)\n",
    "print myList.size(),myList.printList()\n",
    "print myList.search(13),myList.search(14),myList.search(15)\n",
    "print myList.index(17),myList.index(15),myList.index(13)\n",
    "myList.append(19)\n",
    "myList.append(21)\n",
    "print myList.printList()\n",
    "myList.insert(2, 23)\n",
    "print myList.printList()\n",
    "item1 = myList.pop()\n",
    "print item1,myList.printList()\n",
    "item2 = myList.popPos(3)\n",
    "print item2,myList.printList()"
   ]
  }
 ],
 "metadata": {
  "kernelspec": {
   "display_name": "Python 2",
   "language": "python",
   "name": "python2"
  },
  "language_info": {
   "codemirror_mode": {
    "name": "ipython",
    "version": 2
   },
   "file_extension": ".py",
   "mimetype": "text/x-python",
   "name": "python",
   "nbconvert_exporter": "python",
   "pygments_lexer": "ipython2",
   "version": "2.7.12"
  }
 },
 "nbformat": 4,
 "nbformat_minor": 0
}
