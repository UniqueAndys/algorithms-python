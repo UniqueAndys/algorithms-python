{
 "cells": [
  {
   "cell_type": "markdown",
   "metadata": {},
   "source": [
    "# Hash Table"
   ]
  },
  {
   "cell_type": "code",
   "execution_count": 26,
   "metadata": {
    "collapsed": false
   },
   "outputs": [],
   "source": [
    "class HashTable:\n",
    "    def __init__(self):\n",
    "        self.size = 11\n",
    "        self.slots = [None] * self.size\n",
    "        self.data = [None] * self.size\n",
    "        \n",
    "    def hashfunction(self, key, size):\n",
    "        return key%size\n",
    "    \n",
    "    def rehash(self, oldhash, size):\n",
    "        return (oldhash+1)%size\n",
    "    \n",
    "    def put(self, key, data):\n",
    "        hashvalue = self.hashfunction(key, len(self.slots))\n",
    "        \n",
    "        if self.slots[hashvalue] == None:\n",
    "            self.slots[hashvalue] = key\n",
    "            self.data[hashvalue] = data\n",
    "        else:\n",
    "            if self.slots[hashvalue] == key:\n",
    "                self.data[hashvalue] = data  # replace\n",
    "            else:\n",
    "                nextslot = self.rehash(hashvalue, len(self.slots))\n",
    "                while self.slots[nextslot] != None and \\\n",
    "                        self.slots[nextslot] != key:\n",
    "                    nextslot = self.rehash(nextslot, len(self.slots))\n",
    "                \n",
    "                if self.slots[nextslot] == None:\n",
    "                    self.slots[nextslot] = key\n",
    "                    self.data[nextslot] = data\n",
    "                else:\n",
    "                    self.data[nextslot] = data\n",
    "    \n",
    "    def get(self, key):\n",
    "        startvalue = self.hashfunction(key, len(self.slots))\n",
    "        \n",
    "        position = startvalue\n",
    "        while self.slots[position] != None:\n",
    "            if self.slots[position] == key:\n",
    "                return self.data[position]\n",
    "            else:\n",
    "                position = self.rehash(position, len(self.slots))\n",
    "                if position == startvalue:\n",
    "                    return None\n",
    "        return None\n",
    "    \n",
    "    def __setitem__(self, key, data):\n",
    "        return self.put(key, data)\n",
    "    \n",
    "    def __getitem__(self, key):\n",
    "        return self.get(key)"
   ]
  },
  {
   "cell_type": "code",
   "execution_count": 27,
   "metadata": {
    "collapsed": true
   },
   "outputs": [],
   "source": [
    "h = HashTable()\n",
    "list1 = [54, 26, 93, 17, 77, 31, 44, 55, 20]\n",
    "list2 = [\"cat\", \"dog\", \"lion\", \"tiger\", \"bird\", \"cow\", \"goat\",\n",
    "         \"pig\", \"chicken\"]\n",
    "for i in xrange(len(list1)):\n",
    "    h[list1[i]] = list2[i]"
   ]
  },
  {
   "cell_type": "code",
   "execution_count": 28,
   "metadata": {
    "collapsed": false
   },
   "outputs": [
    {
     "name": "stdout",
     "output_type": "stream",
     "text": [
      "[77, 44, 55, 20, 26, 93, 17, None, None, 31, 54]\n",
      "['bird', 'goat', 'pig', 'chicken', 'dog', 'lion', 'tiger', None, None, 'cow', 'cat']\n"
     ]
    }
   ],
   "source": [
    "print h.slots\n",
    "print h.data"
   ]
  },
  {
   "cell_type": "code",
   "execution_count": 29,
   "metadata": {
    "collapsed": false
   },
   "outputs": [
    {
     "name": "stdout",
     "output_type": "stream",
     "text": [
      "cat\n",
      "dog\n",
      "lion\n",
      "tiger\n",
      "bird\n",
      "cow\n",
      "goat\n",
      "pig\n",
      "chicken\n"
     ]
    }
   ],
   "source": [
    "for key in list1:\n",
    "    print h[key]"
   ]
  },
  {
   "cell_type": "code",
   "execution_count": 30,
   "metadata": {
    "collapsed": false
   },
   "outputs": [
    {
     "name": "stdout",
     "output_type": "stream",
     "text": [
      "None\n"
     ]
    }
   ],
   "source": [
    "print h[99]"
   ]
  }
 ],
 "metadata": {
  "kernelspec": {
   "display_name": "Python 2",
   "language": "python",
   "name": "python2"
  },
  "language_info": {
   "codemirror_mode": {
    "name": "ipython",
    "version": 2
   },
   "file_extension": ".py",
   "mimetype": "text/x-python",
   "name": "python",
   "nbconvert_exporter": "python",
   "pygments_lexer": "ipython2",
   "version": "2.7.12"
  }
 },
 "nbformat": 4,
 "nbformat_minor": 0
}
