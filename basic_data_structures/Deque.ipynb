{
 "cells": [
  {
   "cell_type": "markdown",
   "metadata": {},
   "source": [
    "# Deque"
   ]
  },
  {
   "cell_type": "code",
   "execution_count": 4,
   "metadata": {
    "collapsed": true
   },
   "outputs": [],
   "source": [
    "class Deque():\n",
    "    def __init__(self):\n",
    "        self.deque = []\n",
    "    \n",
    "    def addFront(self, item):\n",
    "        self.deque.append(item)\n",
    "    \n",
    "    def addRear(self, item):\n",
    "        self.deque.insert(0, item)\n",
    "    \n",
    "    def removeFront(self):\n",
    "        return self.deque.pop()\n",
    "    \n",
    "    def removeRear(self):\n",
    "        return self.deque.pop(0)\n",
    "    \n",
    "    def isEmpty(self):\n",
    "        return self.deque == []\n",
    "    \n",
    "    def size(self):\n",
    "        return len(self.deque)"
   ]
  },
  {
   "cell_type": "code",
   "execution_count": 5,
   "metadata": {
    "collapsed": false
   },
   "outputs": [
    {
     "name": "stdout",
     "output_type": "stream",
     "text": [
      "True\n",
      "4\n",
      "False\n",
      "8.4\n",
      "True\n"
     ]
    }
   ],
   "source": [
    "d = Deque()\n",
    "print d.isEmpty()\n",
    "d.addRear(4)\n",
    "d.addRear('dog')\n",
    "d.addFront('cat')\n",
    "d.addFront(True)\n",
    "print d.size()\n",
    "print d.isEmpty()\n",
    "d.addRear(8.4)\n",
    "print d.removeRear()\n",
    "print d.removeFront()"
   ]
  },
  {
   "cell_type": "code",
   "execution_count": 8,
   "metadata": {
    "collapsed": true
   },
   "outputs": [],
   "source": [
    "def palchecker(aString):\n",
    "    if len(aString) <= 1:\n",
    "        return True\n",
    "    deque = Deque()\n",
    "    for s in aString:\n",
    "        deque.addFront(s)\n",
    "    stillWork = True\n",
    "    while deque.size() > 1 and stillWork:\n",
    "        if deque.removeFront() != deque.removeRear():\n",
    "            stillWork = False\n",
    "    return stillWork"
   ]
  },
  {
   "cell_type": "code",
   "execution_count": 10,
   "metadata": {
    "collapsed": false
   },
   "outputs": [
    {
     "name": "stdout",
     "output_type": "stream",
     "text": [
      "False\n"
     ]
    }
   ],
   "source": [
    "print palchecker(\"rada\")"
   ]
  }
 ],
 "metadata": {
  "kernelspec": {
   "display_name": "Python 2",
   "language": "python",
   "name": "python2"
  },
  "language_info": {
   "codemirror_mode": {
    "name": "ipython",
    "version": 2
   },
   "file_extension": ".py",
   "mimetype": "text/x-python",
   "name": "python",
   "nbconvert_exporter": "python",
   "pygments_lexer": "ipython2",
   "version": "2.7.12"
  }
 },
 "nbformat": 4,
 "nbformat_minor": 0
}
