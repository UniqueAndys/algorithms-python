{
 "cells": [
  {
   "cell_type": "markdown",
   "metadata": {},
   "source": [
    "##  2. Matrix-chain multiplication 矩阵链乘法"
   ]
  },
  {
   "cell_type": "markdown",
   "metadata": {},
   "source": [
    "假设 $A_iA_{i+1}\\dots A_j$ 的一个最优加全部括号把乘积在 $A_k$ 与 $A_{k+1}$ 之间分开， 则对 $A_iA_{i+1}\\dots A_j$ 最优加全部括号的“前缀”子链 $A_iA_{i+1}\\dots A_k$ 的加全部括号必须是 $A_iA_{i+1}\\dots A_k$ 的一个最优加全部括号。"
   ]
  },
  {
   "cell_type": "code",
   "execution_count": 19,
   "metadata": {
    "collapsed": true
   },
   "outputs": [],
   "source": [
    "import numpy as np"
   ]
  },
  {
   "cell_type": "code",
   "execution_count": 20,
   "metadata": {
    "collapsed": true
   },
   "outputs": [],
   "source": [
    "A = [[30, 35],[35,15],[15,5],[5,10],[10,20],[20,25]]"
   ]
  },
  {
   "cell_type": "code",
   "execution_count": 31,
   "metadata": {
    "collapsed": true
   },
   "outputs": [],
   "source": [
    "def matrixChainOrder(A):\n",
    "    num = len(A)\n",
    "    # list *n -- n个list的浅拷贝\n",
    "    #m = [[0]*num]*num\n",
    "    #s = [[0]*num]*num\n",
    "    m = [[0 for i in xrange(num)] for j in xrange(num)]\n",
    "    s = [[0 for i in xrange(num)] for j in xrange(num)]\n",
    "    for len_i in xrange(1, num):\n",
    "        for j in xrange(0, num-len_i):\n",
    "            start = j\n",
    "            end = j + len_i\n",
    "            if len_i == 1:\n",
    "                m[start][end] = A[start][0] * A[start][1] * A[end][1]\n",
    "                # m[start][end] 从A[start]到A[end]最少乘法\n",
    "                s[start][end] = start\n",
    "                # s[start][end] A[start]到A[end]在k处分开，包括k\n",
    "            else:\n",
    "                min_mul = np.inf\n",
    "                for k in xrange(start, end):\n",
    "                    mul = m[start][k] + m[k+1][end] + A[start][0] * A[k][1] * A[end][1]\n",
    "                    if mul < min_mul:\n",
    "                        min_mul = mul\n",
    "                        s[start][end] = k\n",
    "                m[start][end] = min_mul\n",
    "    return m,s"
   ]
  },
  {
   "cell_type": "code",
   "execution_count": 32,
   "metadata": {
    "collapsed": false
   },
   "outputs": [
    {
     "name": "stdout",
     "output_type": "stream",
     "text": [
      "[[0, 15750, 7875, 9375, 11875, 15125], [0, 0, 2625, 4375, 7125, 10500], [0, 0, 0, 750, 2500, 5375], [0, 0, 0, 0, 1000, 3500], [0, 0, 0, 0, 0, 5000], [0, 0, 0, 0, 0, 0]]\n",
      "[[0, 0, 0, 2, 2, 2], [0, 0, 1, 2, 2, 2], [0, 0, 0, 2, 2, 2], [0, 0, 0, 0, 3, 4], [0, 0, 0, 0, 0, 4], [0, 0, 0, 0, 0, 0]]\n"
     ]
    }
   ],
   "source": [
    "m,s = matrixChainOrder(A)\n",
    "print(m)\n",
    "print(s)"
   ]
  },
  {
   "cell_type": "markdown",
   "metadata": {},
   "source": [
    "### 构造一个最优解"
   ]
  },
  {
   "cell_type": "code",
   "execution_count": 53,
   "metadata": {
    "collapsed": false
   },
   "outputs": [
    {
     "name": "stdout",
     "output_type": "stream",
     "text": [
      "(0, 5)\n",
      "(0, 2)\n",
      "(0, 0)\n",
      "(1, 2)\n",
      "(1, 1)\n",
      "(2, 2)\n",
      "(3, 5)\n",
      "(3, 4)\n",
      "(3, 3)\n",
      "(4, 4)\n",
      "(5, 5)\n",
      "((0(12))((34)5))\n"
     ]
    }
   ],
   "source": [
    "start = 0\n",
    "end = len(A) - 1\n",
    "strOrder = \"\"\n",
    "def printOrder(start, end, strOrder):\n",
    "    print(start, end) \n",
    "    if start == end:\n",
    "        strOrder += str(start)\n",
    "    else:\n",
    "        strOrder += \"(\"\n",
    "        k = s[start][end]\n",
    "        strOrder = printOrder(start, k, strOrder)\n",
    "        strOrder = printOrder(k+1, end, strOrder)\n",
    "        strOrder += \")\"\n",
    "    return strOrder\n",
    "strOrder = printOrder(start, end, strOrder)\n",
    "print(strOrder)"
   ]
  }
 ],
 "metadata": {
  "kernelspec": {
   "display_name": "Python 2",
   "language": "python",
   "name": "python2"
  },
  "language_info": {
   "codemirror_mode": {
    "name": "ipython",
    "version": 2
   },
   "file_extension": ".py",
   "mimetype": "text/x-python",
   "name": "python",
   "nbconvert_exporter": "python",
   "pygments_lexer": "ipython2",
   "version": "2.7.12"
  }
 },
 "nbformat": 4,
 "nbformat_minor": 0
}
