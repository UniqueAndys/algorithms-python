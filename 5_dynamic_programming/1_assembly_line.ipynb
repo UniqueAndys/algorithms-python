{
 "cells": [
  {
   "cell_type": "markdown",
   "metadata": {},
   "source": [
    "# Dynamic Programming"
   ]
  },
  {
   "cell_type": "markdown",
   "metadata": {},
   "source": [
    "动态规划算法的设计步骤：\n",
    "- 描述最优解的结构\n",
    "- 递归定义最优解的值\n",
    "- 按自底向上的方式计算最优解的值\n",
    "- 由计算出的结果构造一个最优解"
   ]
  },
  {
   "cell_type": "markdown",
   "metadata": {},
   "source": [
    "## 1. 装配线调度"
   ]
  },
  {
   "cell_type": "markdown",
   "metadata": {},
   "source": [
    "观察一条通过装配站 $ S_{1,j} $ 的最快路线， 会发现它必定是经过装配线 1 或 2 上的装配站 j-1，则通过装配站 j-1 的也必须是其最快路线"
   ]
  },
  {
   "cell_type": "code",
   "execution_count": 1,
   "metadata": {
    "collapsed": true
   },
   "outputs": [],
   "source": [
    "e = [2, 4]\n",
    "x = [3, 2]\n",
    "a = [[7, 9, 3, 4, 8, 4],\n",
    "     [8, 5, 6, 4, 5, 7]]\n",
    "t = [[2, 3, 1, 3, 4],\n",
    "     [2, 1, 2, 2, 1]]\n",
    "n = 6"
   ]
  },
  {
   "cell_type": "code",
   "execution_count": 27,
   "metadata": {
    "collapsed": true
   },
   "outputs": [],
   "source": [
    "def fastestWay(e, x, a, t, n):\n",
    "    f = [[],[]]\n",
    "    l = [[None],[None]]\n",
    "    f[0].append(e[0] + a[0][0])\n",
    "    f[1].append(e[1] + a[1][0])\n",
    "    for i in xrange(1, n):\n",
    "        if f[0][i-1] + a[0][i] < f[1][i-1] + t[1][i-1] + a[0][i]:\n",
    "            f[0].append(f[0][i-1] + a[0][i])\n",
    "            l[0].append(0)\n",
    "        else:\n",
    "            f[0].append(f[1][i-1] + t[1][i-1] + a[0][i])\n",
    "            l[0].append(1)\n",
    "        if f[1][i-1] + a[1][i] < f[0][i-1] + t[0][i-1] + a[1][i]:\n",
    "            f[1].append(f[1][i-1] + a[1][i])\n",
    "            l[1].append(1)\n",
    "        else:\n",
    "            f[1].append(f[0][i-1] + t[0][i-1] + a[1][i])\n",
    "            l[1].append(0)\n",
    "    if f[0][n-1] + x[0] < f[1][n-1] + x[1]:\n",
    "        l[0].append(0)\n",
    "        print(\"The least time is\", f[0][n-1] + x[0])\n",
    "        i = 0\n",
    "        for j in xrange(n, 0, -1):\n",
    "            i = l[i][j]\n",
    "            print(\"step\", j, \"  at section\", i)\n",
    "    else:\n",
    "        l[1].append(1)\n",
    "        print(\"The least time is\", f[1][n-1] + x[1])\n",
    "        i = 1\n",
    "        for j in xrange(n, 0, -1):\n",
    "            i = l[i][j]\n",
    "            print(\"step\", j, \"  from line\", i)"
   ]
  },
  {
   "cell_type": "markdown",
   "metadata": {},
   "source": [
    "### 构造通过工厂的最快路线"
   ]
  },
  {
   "cell_type": "code",
   "execution_count": 28,
   "metadata": {
    "collapsed": false
   },
   "outputs": [
    {
     "name": "stdout",
     "output_type": "stream",
     "text": [
      "('The least time is', 38)\n",
      "('step', 6, '  at section', 0)\n",
      "('step', 5, '  at section', 1)\n",
      "('step', 4, '  at section', 1)\n",
      "('step', 3, '  at section', 0)\n",
      "('step', 2, '  at section', 1)\n",
      "('step', 1, '  at section', 0)\n"
     ]
    }
   ],
   "source": [
    "fastestWay(e, x, a, t, n)"
   ]
  }
 ],
 "metadata": {
  "kernelspec": {
   "display_name": "Python 2",
   "language": "python",
   "name": "python2"
  },
  "language_info": {
   "codemirror_mode": {
    "name": "ipython",
    "version": 2
   },
   "file_extension": ".py",
   "mimetype": "text/x-python",
   "name": "python",
   "nbconvert_exporter": "python",
   "pygments_lexer": "ipython2",
   "version": "2.7.12"
  }
 },
 "nbformat": 4,
 "nbformat_minor": 0
}
