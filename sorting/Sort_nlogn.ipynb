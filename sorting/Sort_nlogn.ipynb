{
 "cells": [
  {
   "cell_type": "markdown",
   "metadata": {},
   "source": [
    "# Sort Algorithms with $O( n\\log n )$ time complexity"
   ]
  },
  {
   "cell_type": "markdown",
   "metadata": {},
   "source": [
    "# 合并排序\n",
    "分治策略，每步划分为两个子序列，每个递归进行排序，再合并两个已排序的子序列。"
   ]
  },
  {
   "cell_type": "code",
   "execution_count": 3,
   "metadata": {
    "collapsed": true
   },
   "outputs": [],
   "source": [
    "def mergeSort(l, start, end):\n",
    "    if end > start:\n",
    "        mid = (start + end) / 2\n",
    "        # 分为两个子序列，递归调用自身\n",
    "        mergeSort(l, start, mid)\n",
    "        mergeSort(l, mid+1, end)\n",
    "        # 合并两个已排好序的子序列\n",
    "        i = 0\n",
    "        j = mid + 1 - start\n",
    "        index = start\n",
    "        temp = l[start:end+1]\n",
    "        while i <= mid-start and j <= end-start:\n",
    "            if temp[i] < temp[j]:\n",
    "                l[index] = temp[i]\n",
    "                i += 1\n",
    "            else:\n",
    "                l[index] = temp[j]\n",
    "                j += 1\n",
    "            index += 1\n",
    "        if i > mid-start:\n",
    "            l[index:end+1] = temp[j:]\n",
    "        else:\n",
    "            l[index:end+1] = temp[i:mid-start+1]"
   ]
  },
  {
   "cell_type": "code",
   "execution_count": 2,
   "metadata": {
    "collapsed": false
   },
   "outputs": [
    {
     "name": "stdout",
     "output_type": "stream",
     "text": [
      "[54, 26, 93, 17, 77, 31, 44, 55, 20]\n",
      "[17, 20, 26, 31, 44, 54, 55, 77, 93]\n"
     ]
    }
   ],
   "source": [
    "alist = [54, 26, 93, 17, 77, 31, 44, 55, 20]\n",
    "print(alist)\n",
    "mergeSort(alist, 0, len(alist)-1)\n",
    "print(alist)"
   ]
  },
  {
   "cell_type": "markdown",
   "metadata": {},
   "source": [
    "## 堆排序\n",
    "先建立最大堆，然后依次取出堆顶最大值，每次取出后都需保持最大堆的性质"
   ]
  },
  {
   "cell_type": "code",
   "execution_count": 4,
   "metadata": {
    "collapsed": true
   },
   "outputs": [],
   "source": [
    "def heapSort(l):\n",
    "    heapSize = len(l)\n",
    "    buildMaxHeap(l, heapSize)\n",
    "    for i in xrange(len(l)-1):\n",
    "        temp = l[0]\n",
    "        l[0] = l[heapSize-1]\n",
    "        l[heapSize-1] = temp\n",
    "        heapSize -= 1\n",
    "        maxHeapIfy(l, 0, heapSize)\n",
    "\n",
    "# 建立最大堆\n",
    "def buildMaxHeap(l, heapSize):\n",
    "    for i in xrange(heapSize/2-1, -1, -1):\n",
    "        maxHeapIfy(l, i, heapSize)\n",
    "\n",
    "# 保持最大堆的性质\n",
    "def maxHeapIfy(l, i, heapSize):\n",
    "    left = 2*i + 1\n",
    "    right = 2*i + 2\n",
    "    largest = i\n",
    "    if left < heapSize and l[left] > l[largest]:\n",
    "        largest = left\n",
    "    if right < heapSize and l[right] > l[largest]:\n",
    "        largest = right\n",
    "    if largest != i:\n",
    "        temp = l[i]\n",
    "        l[i] = l[largest]\n",
    "        l[largest] = temp\n",
    "        maxHeapIfy(l, largest, heapSize)"
   ]
  },
  {
   "cell_type": "code",
   "execution_count": 5,
   "metadata": {
    "collapsed": false
   },
   "outputs": [
    {
     "name": "stdout",
     "output_type": "stream",
     "text": [
      "[4, 1, 3, 2, 16, 9, 10, 14, 8, 7]\n",
      "[1, 2, 3, 4, 7, 8, 9, 10, 14, 16]\n"
     ]
    }
   ],
   "source": [
    "alist = [4, 1, 3, 2, 16, 9, 10, 14, 8, 7]\n",
    "print(alist)\n",
    "heapSort(alist)\n",
    "print(alist)"
   ]
  },
  {
   "cell_type": "markdown",
   "metadata": {},
   "source": [
    "## 快速排序\n",
    "分治模式，每次将小于pivot的值放在左侧，大的放在右侧"
   ]
  },
  {
   "cell_type": "code",
   "execution_count": 6,
   "metadata": {
    "collapsed": true
   },
   "outputs": [],
   "source": [
    "def quickSort(l, p, r):\n",
    "    if r > p:\n",
    "        q = partition(l, p, r)\n",
    "        quickSort(l, p, q-1)\n",
    "        quickSort(l, q+1, r)\n",
    "        \n",
    "def partition(l, p, r):\n",
    "    pivot = l[p]\n",
    "    i = p + 1\n",
    "    j = r\n",
    "    while i < j:\n",
    "        if l[i] < pivot:\n",
    "            i += 1\n",
    "        else:\n",
    "            exchange(l, i, j)\n",
    "            j -= 1\n",
    "    if l[i] < pivot:\n",
    "        exchange(l, p, i)\n",
    "        return i\n",
    "    else:\n",
    "        exchange(l, p, i-1)\n",
    "        return i-1\n",
    "\n",
    "def exchange(l, i, j):\n",
    "    temp = l[i]\n",
    "    l[i] = l[j]\n",
    "    l[j] = temp"
   ]
  },
  {
   "cell_type": "code",
   "execution_count": 7,
   "metadata": {
    "collapsed": false
   },
   "outputs": [
    {
     "name": "stdout",
     "output_type": "stream",
     "text": [
      "[4, 1, 3, 2, 16, 9, 10, 14, 8, 7]\n",
      "[1, 2, 3, 4, 7, 8, 9, 10, 14, 16]\n"
     ]
    }
   ],
   "source": [
    "alist = [4, 1, 3, 2, 16, 9, 10, 14, 8, 7]\n",
    "print(alist)\n",
    "quickSort(alist, 0, len(alist)-1)\n",
    "print(alist)"
   ]
  }
 ],
 "metadata": {
  "kernelspec": {
   "display_name": "Python 2",
   "language": "python",
   "name": "python2"
  },
  "language_info": {
   "codemirror_mode": {
    "name": "ipython",
    "version": 2
   },
   "file_extension": ".py",
   "mimetype": "text/x-python",
   "name": "python",
   "nbconvert_exporter": "python",
   "pygments_lexer": "ipython2",
   "version": "2.7.12"
  }
 },
 "nbformat": 4,
 "nbformat_minor": 0
}
