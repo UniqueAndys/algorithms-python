{
 "cells": [
  {
   "cell_type": "markdown",
   "metadata": {},
   "source": [
    "# Sort Algorithms with $n$ time complexity"
   ]
  },
  {
   "cell_type": "code",
   "execution_count": 5,
   "metadata": {
    "collapsed": true
   },
   "outputs": [],
   "source": [
    "def countSort(l):\n",
    "    k = max(l)\n",
    "    l_k = [0] * (k+1)\n",
    "    for i in l:\n",
    "        l_k[i] += 1\n",
    "    for i in xrange(1, k+1):\n",
    "        l_k[i] += l_k[i-1]\n",
    "    l_sort = [0] * len(l)\n",
    "    for i in xrange(len(l)-1, -1, -1):\n",
    "        l_sort[l_k[l[i]]-1] = l[i]\n",
    "        l_k[l[i]] -= 1\n",
    "    return l_sort"
   ]
  },
  {
   "cell_type": "code",
   "execution_count": 6,
   "metadata": {
    "collapsed": false
   },
   "outputs": [
    {
     "name": "stdout",
     "output_type": "stream",
     "text": [
      "[2, 5, 3, 0, 2, 3, 0, 3]\n",
      "[0, 0, 2, 2, 3, 3, 3, 5]\n"
     ]
    }
   ],
   "source": [
    "l = [2, 5, 3, 0, 2, 3, 0, 3]\n",
    "print(l)\n",
    "l_sort = countSort(l)\n",
    "print(l_sort)"
   ]
  }
 ],
 "metadata": {
  "kernelspec": {
   "display_name": "Python 2",
   "language": "python",
   "name": "python2"
  },
  "language_info": {
   "codemirror_mode": {
    "name": "ipython",
    "version": 2
   },
   "file_extension": ".py",
   "mimetype": "text/x-python",
   "name": "python",
   "nbconvert_exporter": "python",
   "pygments_lexer": "ipython2",
   "version": "2.7.12"
  }
 },
 "nbformat": 4,
 "nbformat_minor": 0
}
