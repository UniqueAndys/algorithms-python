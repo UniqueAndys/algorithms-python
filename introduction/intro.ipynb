{
 "cells": [
  {
   "cell_type": "markdown",
   "metadata": {
    "focus": true,
    "id": "2566b3d2-d15b-4ce7-ba6e-d816a304db2e"
   },
   "source": [
    "# Basic Python Notes"
   ]
  },
  {
   "cell_type": "markdown",
   "metadata": {
    "focus": false,
    "id": "60e7c9e5-bdcb-4a01-9607-1fc9e5e86db4"
   },
   "source": [
    "在python 2.x中，input会计算字符串中的数学表达式，raw_input是普通的字符串读入\n",
    "\n",
    "在python 3.x中，raw_input和input合体，取消raw_input"
   ]
  },
  {
   "cell_type": "code",
   "execution_count": 18,
   "metadata": {
    "collapsed": false,
    "focus": false,
    "id": "dd7b274a-0500-41bc-99b6-74c98f54ef58"
   },
   "outputs": [
    {
     "name": "stdout",
     "output_type": "stream",
     "text": [
      "Please enter your name:Andy\n",
      "Andy\n"
     ]
    }
   ],
   "source": [
    "aName = raw_input(\"Please enter your name:\")\n",
    "print aName"
   ]
  },
  {
   "cell_type": "code",
   "execution_count": 17,
   "metadata": {
    "collapsed": false,
    "focus": false,
    "id": "afc62a55-ae89-4286-a03a-c3da91309e0b"
   },
   "outputs": [
    {
     "name": "stdout",
     "output_type": "stream",
     "text": [
      "Please enter a formulation:22+3\n",
      "25\n"
     ]
    }
   ],
   "source": [
    "cal = input(\"Please enter a formulation:\")\n",
    "print cal"
   ]
  },
  {
   "cell_type": "code",
   "execution_count": 15,
   "metadata": {
    "collapsed": false,
    "focus": false,
    "id": "e91d1fef-0a92-4041-b971-2b22ab39da45"
   },
   "outputs": [
    {
     "name": "stdout",
     "output_type": "stream",
     "text": [
      "('Your name in all capitals is', 'ANDY', 'and has length', 4)\n"
     ]
    }
   ],
   "source": [
    "print(\"Your name in all capitals is\", aName.upper(), \"and has length\", len(aName))"
   ]
  },
  {
   "cell_type": "markdown",
   "metadata": {
    "focus": false,
    "id": "1f9887ca-7ef2-4c2c-a429-ab8848994308"
   },
   "source": [
    "## % format operator"
   ]
  },
  {
   "cell_type": "code",
   "execution_count": 16,
   "metadata": {
    "collapsed": false,
    "focus": false,
    "id": "a33ed7f4-2ac1-4be8-9315-9b7018403f6f"
   },
   "outputs": [
    {
     "name": "stdout",
     "output_type": "stream",
     "text": [
      "Hi, Andy.\n"
     ]
    }
   ],
   "source": [
    "print(\"Hi, %s.\" % (aName))"
   ]
  },
  {
   "cell_type": "markdown",
   "metadata": {
    "focus": false,
    "id": "7cf0071b-755a-4520-9e07-ab4224a62e7e"
   },
   "source": [
    "python2中的range返回的是一个列表\n",
    "\n",
    "python3中的range返回的是一个迭代器"
   ]
  },
  {
   "cell_type": "code",
   "execution_count": 8,
   "metadata": {
    "collapsed": false,
    "focus": false,
    "id": "1ee27cd3-3a4c-488e-bae7-86f837f05d06"
   },
   "outputs": [
    {
     "data": {
      "text/plain": [
       "xrange"
      ]
     },
     "execution_count": 8,
     "metadata": {},
     "output_type": "execute_result"
    }
   ],
   "source": [
    "type(range(10))"
   ]
  },
  {
   "cell_type": "code",
   "execution_count": 10,
   "metadata": {
    "collapsed": false,
    "focus": false,
    "id": "17b9f1b5-6b72-40d0-a496-2f438825e319"
   },
   "outputs": [
    {
     "data": {
      "text/plain": [
       "[0, 1, 2, 3, 4, 5, 6, 7, 8, 9]"
      ]
     },
     "execution_count": 10,
     "metadata": {},
     "output_type": "execute_result"
    }
   ],
   "source": [
    "from six.moves import range\n",
    "type(range(10))\n",
    "# list(type(range(10)))"
   ]
  },
  {
   "cell_type": "markdown",
   "metadata": {
    "focus": false,
    "id": "1453f19e-d319-497e-8d81-18a2b9937731"
   },
   "source": [
    "## list comprehension"
   ]
  },
  {
   "cell_type": "code",
   "execution_count": 23,
   "metadata": {
    "collapsed": false,
    "focus": false,
    "id": "5b94f94a-9885-4605-9680-42cecf0fe4b4"
   },
   "outputs": [
    {
     "data": {
      "text/plain": [
       "[1, 9, 25, 49, 81]"
      ]
     },
     "execution_count": 23,
     "metadata": {},
     "output_type": "execute_result"
    }
   ],
   "source": [
    "sqlist = [x*x for x in range(10) if x%2 != 0]\n",
    "sqlist"
   ]
  },
  {
   "cell_type": "markdown",
   "metadata": {
    "focus": false,
    "id": "1b5d4fa8-a06e-4652-ba89-bd4dc38c58b0"
   },
   "source": [
    "Built-in Collection Data Types\n",
    "\n",
    "list string tuple set dictionary"
   ]
  },
  {
   "cell_type": "markdown",
   "metadata": {
    "focus": false,
    "id": "460aa089-8d61-4edb-9423-7da807c69925"
   },
   "source": [
    "## exceptions"
   ]
  },
  {
   "cell_type": "code",
   "execution_count": 24,
   "metadata": {
    "collapsed": false,
    "focus": false,
    "id": "3a90de35-3292-4c5d-8085-f6b9b37a3251"
   },
   "outputs": [
    {
     "name": "stdout",
     "output_type": "stream",
     "text": [
      "Please enter an integer -12\n",
      "Bad Value for square root, using absolute value instead\n",
      "3.46410161514\n"
     ]
    }
   ],
   "source": [
    "import math\n",
    "anumber = int(raw_input(\"Please enter an integer \"))\n",
    "try:\n",
    "    print(math.sqrt(anumber))\n",
    "except:\n",
    "    print(\"Bad Value for square root, using absolute value instead\")\n",
    "    print(math.sqrt(abs(anumber)))"
   ]
  },
  {
   "cell_type": "markdown",
   "metadata": {
    "focus": false,
    "id": "027ac02b-b6bc-4596-bace-5e7edbb31d06"
   },
   "source": [
    "constructor method \\__init\\__(self,*)\n",
    "\n",
    "\\__str\\__ : convert an object into a string(default, instance address)"
   ]
  },
  {
   "cell_type": "markdown",
   "metadata": {
    "focus": false,
    "id": "7bd8bd63-4cf9-440f-9b16-0daaec147572"
   },
   "source": [
    "## 操作符重载\n",
    "\n",
    "override operands: \\__add\\__, \\__eq\\__, "
   ]
  },
  {
   "cell_type": "code",
   "execution_count": null,
   "metadata": {
    "collapsed": false
   },
   "outputs": [],
   "source": []
  },
  {
   "cell_type": "code",
   "execution_count": null,
   "metadata": {
    "collapsed": false
   },
   "outputs": [],
   "source": []
  }
 ],
 "metadata": {
  "kernelspec": {
   "display_name": "Python 2",
   "language": "python",
   "name": "python2"
  },
  "language_info": {
   "codemirror_mode": {
    "name": "ipython",
    "version": 2
   },
   "file_extension": ".py",
   "mimetype": "text/x-python",
   "name": "python",
   "nbconvert_exporter": "python",
   "pygments_lexer": "ipython2",
   "version": "2.7.12"
  }
 },
 "nbformat": 4,
 "nbformat_minor": 0
}
